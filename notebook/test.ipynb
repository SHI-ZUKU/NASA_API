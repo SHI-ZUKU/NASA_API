{
 "cells": [
  {
   "cell_type": "code",
   "execution_count": 4,
   "id": "d8183763",
   "metadata": {},
   "outputs": [],
   "source": [
    "import requests"
   ]
  },
  {
   "cell_type": "code",
   "execution_count": 1,
   "id": "f42be86d",
   "metadata": {},
   "outputs": [],
   "source": [
    "api_key = 'Rf5kdoqxCGIaLVwNFMexJsVvJmdcQprhifInfmoM'"
   ]
  },
  {
   "cell_type": "code",
   "execution_count": 52,
   "id": "f68f5741",
   "metadata": {},
   "outputs": [],
   "source": [
    "earth_date = '2024-08-09'"
   ]
  },
  {
   "cell_type": "code",
   "execution_count": 60,
   "id": "046efb42",
   "metadata": {},
   "outputs": [],
   "source": [
    "url = f\"https://api.nasa.gov/mars-photos/api/v1/rovers/curiosity/latest_photos?api_key={api_key}\""
   ]
  },
  {
   "cell_type": "code",
   "execution_count": 61,
   "id": "c2c8fc63",
   "metadata": {},
   "outputs": [],
   "source": [
    "response = requests.get(url)\n",
    "data = response.json()"
   ]
  },
  {
   "cell_type": "code",
   "execution_count": 62,
   "id": "94db5834",
   "metadata": {},
   "outputs": [
    {
     "name": "stdout",
     "output_type": "stream",
     "text": [
      "https://mars.nasa.gov/msl-raw-images/proj/msl/redops/ods/surface/sol/04622/opgs/edr/ccam/CR0_807810290EDR_F1180372CCAM02622M_.JPG\n",
      "https://mars.nasa.gov/msl-raw-images/proj/msl/redops/ods/surface/sol/04622/opgs/edr/ccam/CR0_807810248EDR_F1180372CCAM02622M_.JPG\n",
      "https://mars.nasa.gov/msl-raw-images/proj/msl/redops/ods/surface/sol/04622/opgs/edr/ccam/CR0_807810206EDR_F1180372CCAM02622M_.JPG\n",
      "https://mars.nasa.gov/msl-raw-images/proj/msl/redops/ods/surface/sol/04622/opgs/edr/ccam/CR0_807810164EDR_F1180372CCAM02622M_.JPG\n",
      "https://mars.nasa.gov/msl-raw-images/proj/msl/redops/ods/surface/sol/04622/opgs/edr/ccam/CR0_807810122EDR_F1180372CCAM02622M_.JPG\n",
      "https://mars.nasa.gov/msl-raw-images/proj/msl/redops/ods/surface/sol/04622/opgs/edr/ccam/CR0_807810080EDR_F1180372CCAM02622M_.JPG\n",
      "https://mars.nasa.gov/msl-raw-images/proj/msl/redops/ods/surface/sol/04622/opgs/edr/ccam/CR0_807810037EDR_F1180372CCAM02622M_.JPG\n",
      "https://mars.nasa.gov/msl-raw-images/proj/msl/redops/ods/surface/sol/04622/opgs/edr/ccam/CR0_807809794EDR_F1180372CCAM02622M_.JPG\n",
      "https://mars.nasa.gov/msl-raw-images/proj/msl/redops/ods/surface/sol/04622/opgs/edr/ccam/CR0_807809578EDR_F1180372CCAM01622M_.JPG\n",
      "https://mars.nasa.gov/msl-raw-images/proj/msl/redops/ods/surface/sol/04622/opgs/edr/ccam/CR0_807808897EDR_F1180372CCAM01622M_.JPG\n",
      "https://mars.nasa.gov/msl-raw-images/proj/msl/redops/ods/surface/sol/04622/opgs/edr/ncam/NRB_807820509EDR_F1180372NCAM00200M_.JPG\n",
      "https://mars.nasa.gov/msl-raw-images/proj/msl/redops/ods/surface/sol/04622/opgs/edr/ncam/NRB_807819904EDR_F1180372NCAM00200M_.JPG\n",
      "https://mars.nasa.gov/msl-raw-images/proj/msl/redops/ods/surface/sol/04622/opgs/edr/ncam/NRB_807819111EDR_F1180372NCAM00200M_.JPG\n",
      "https://mars.nasa.gov/msl-raw-images/proj/msl/redops/ods/surface/sol/04622/opgs/edr/ncam/NRB_807818512EDR_F1180372NCAM00200M_.JPG\n",
      "https://mars.nasa.gov/msl-raw-images/proj/msl/redops/ods/surface/sol/04622/opgs/edr/fcam/FLB_807820613EDR_F1180372FHAZ00337M_.JPG\n",
      "https://mars.nasa.gov/msl-raw-images/proj/msl/redops/ods/surface/sol/04622/opgs/edr/fcam/FLB_807820475EDR_F1180372FHAZ00200M_.JPG\n",
      "https://mars.nasa.gov/msl-raw-images/proj/msl/redops/ods/surface/sol/04622/opgs/edr/fcam/FLB_807819878EDR_F1180372FHAZ00200M_.JPG\n",
      "https://mars.nasa.gov/msl-raw-images/proj/msl/redops/ods/surface/sol/04622/opgs/edr/fcam/FLB_807819086EDR_F1180372FHAZ00200M_.JPG\n",
      "https://mars.nasa.gov/msl-raw-images/proj/msl/redops/ods/surface/sol/04622/opgs/edr/fcam/FLB_807818469EDR_F1180372FHAZ00200M_.JPG\n",
      "https://mars.nasa.gov/msl-raw-images/proj/msl/redops/ods/surface/sol/04622/opgs/edr/fcam/FRB_807820613EDR_F1180372FHAZ00337M_.JPG\n",
      "https://mars.nasa.gov/msl-raw-images/proj/msl/redops/ods/surface/sol/04622/opgs/edr/rcam/RLB_807820655EDR_F1180372RHAZ00337M_.JPG\n",
      "https://mars.nasa.gov/msl-raw-images/proj/msl/redops/ods/surface/sol/04622/opgs/edr/rcam/RRB_807820655EDR_F1180372RHAZ00337M_.JPG\n"
     ]
    }
   ],
   "source": [
    "for photo in data[\"latest_photos\"]:\n",
    "    print(photo[\"img_src\"])"
   ]
  },
  {
   "cell_type": "code",
   "execution_count": null,
   "id": "b45c5a3b",
   "metadata": {},
   "outputs": [],
   "source": []
  }
 ],
 "metadata": {
  "kernelspec": {
   "display_name": "nasa_api",
   "language": "python",
   "name": "python3"
  },
  "language_info": {
   "codemirror_mode": {
    "name": "ipython",
    "version": 3
   },
   "file_extension": ".py",
   "mimetype": "text/x-python",
   "name": "python",
   "nbconvert_exporter": "python",
   "pygments_lexer": "ipython3",
   "version": "3.12.3"
  }
 },
 "nbformat": 4,
 "nbformat_minor": 5
}
